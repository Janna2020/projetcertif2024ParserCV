{
 "cells": [
  {
   "cell_type": "code",
   "execution_count": 25,
   "id": "6ba4c05c",
   "metadata": {},
   "outputs": [],
   "source": [
    "import spacy"
   ]
  },
  {
   "cell_type": "code",
   "execution_count": 26,
   "id": "c9fd289d",
   "metadata": {},
   "outputs": [],
   "source": [
    "nlp = spacy.load('model best')"
   ]
  },
  {
   "cell_type": "code",
   "execution_count": 27,
   "id": "ab8a3d30",
   "metadata": {},
   "outputs": [],
   "source": [
    "from PyPDF2 import PdfReader\n",
    "\n",
    "def extract_text_from_pdf(pdf_path):\n",
    "    text = \"\"\n",
    "    with open(pdf_path, \"rb\") as f:\n",
    "        reader = PdfReader(f)\n",
    "        num_pages = len(reader.pages)\n",
    "        for page_num in range(num_pages):\n",
    "            page = reader.pages[page_num]\n",
    "            text += page.extract_text()\n",
    "    return text\n",
    "\n",
    "# Chemin vers le fichier PDF à convertir en texte\n",
    "pdf_path = \"cv_data_project/10186968.pdf\"\n",
    "doc = extract_text_from_pdf(pdf_path)\n",
    "\n"
   ]
  },
  {
   "cell_type": "code",
   "execution_count": 28,
   "id": "8417e364",
   "metadata": {},
   "outputs": [],
   "source": [
    "text = \"\"\n",
    "for page in doc:\n",
    "    text += str(page)"
   ]
  },
  {
   "cell_type": "code",
   "execution_count": 29,
   "id": "fd5549eb",
   "metadata": {},
   "outputs": [],
   "source": [
    "text = text.strip()"
   ]
  },
  {
   "cell_type": "code",
   "execution_count": 30,
   "id": "69171f32",
   "metadata": {
    "scrolled": true
   },
   "outputs": [
    {
     "data": {
      "text/plain": [
       "\"CHILD FAMILY ADVOCATE Professional Profile Talented administrative professional with background in accounting and finance. Extensive knowledge of AR/AP, Microsoft Excel and Quick Books-software skills. Fearless Child Family Advocate comfortable taking a stand against threats to a child's safety or well-being. Works directly with government officials, children and families to find the best care possible for every child. Qualifications Attentive listener Sensitive Family maintenance Detail-oriented Excellent interpersonal skills Team player Staff development Relevant Experience Served many program participants who went on to earn high school diplomas or GEDs. Increased office organization by developing more efficient filing system and customer database protocols. Led support groups to help parents regain and improve their parent-child bond. Experience Child Family Advocate August 2013 to Current Company Name ï¼\\u200b City , State Collaborated with community members to educate the public regarding issues such as drug abuse prevention and traffic safety. Collaborated with community leaders, organizations and public agencies to promote the organizations community service programs. Maintained daily records of children's individual activities, behaviors, meals and naps. Created and implemented developmentally-appropriate curriculum that addressed all learning styles. Established a safe play environment for the children. Supervised children on field trips to local parks, fire stations and zoos. Directed all protective placement, case management, parent education and family reunification activities. Advised patients on community resources, made referrals and devised realistic treatment plans.Communicated with public social and welfare agencies to obtain and provide information. Customer Services Team Lead October 2010 to March 2013 Company Name ï¼\\u200b City , State Surpassed revenue goals in four consecutive quarters. Created training manuals targeted at resolving even the most difficult customer issues. Developed, implemented and monitored programs to maximize customer satisfaction. Interviewed, hired and trained new quality customer service representatives. Developed and implemented policies, procedures and process improvement initiatives to improve retention rates and increase customer satisfaction. Customer Service/Banking November 2007 to March 2009 Company Name ï¼\\u200b City , State Collected customer feedback and made process changes to exceed customer satisfaction goals. Developed process improvements to enhance efficiency and effectiveness of inter-department call center operations. Opened new customer accounts, including checking, savings and lines of credit. Examined checks for identification and endorsement. Processed treasury, tax and loan payments. Administrative Assistant August 2007 to November 2007 Company Name ï¼\\u200b City , State Managed the receptionist area, including greeting visitors and responding to telephone and in-person requests for information. Dispersed incoming mail to correct recipients throughout the office. Created and maintained spreadsheets using advanced Excel functions and calculations to develop reports and lists. Received and distributed faxes and mail in a timely manner. Call Center/Phone Representative/Collector August 2005 to November 2007 Company Name ï¼\\u200b City , State Computed accurate sales prices for purchase transactions. Eliminated outdated records by sending the records to be scanned. Identified and resolved system and account issues.Verified and logged in deadlines forresponding to daily inquiries. Education l Coursework in Organizational Behavior, Compensation, Labor Relations and Recruitment l Continuing education in Human Services Greenville College l Desktop publishing workshop ï¼\\u200b City , State Skills scheduling appointments AS 400, budgets call center Customer service financial, funds Labor Relations Leadership Sales\""
      ]
     },
     "execution_count": 30,
     "metadata": {},
     "output_type": "execute_result"
    }
   ],
   "source": [
    "' '.join(text.split())"
   ]
  },
  {
   "cell_type": "code",
   "execution_count": 31,
   "id": "ca30bdf5",
   "metadata": {},
   "outputs": [
    {
     "name": "stdout",
     "output_type": "stream",
     "text": [
      "Graduation Year : 2013\n",
      "College Name : Greenville\n",
      "College\n"
     ]
    }
   ],
   "source": [
    "doc = nlp(text)\n",
    "for ent in doc.ents:\n",
    "  print(ent.label_,\":\", ent.text)"
   ]
  }
 ],
 "metadata": {
  "kernelspec": {
   "display_name": "Python 3 (ipykernel)",
   "language": "python",
   "name": "python3"
  },
  "language_info": {
   "codemirror_mode": {
    "name": "ipython",
    "version": 3
   },
   "file_extension": ".py",
   "mimetype": "text/x-python",
   "name": "python",
   "nbconvert_exporter": "python",
   "pygments_lexer": "ipython3",
   "version": "3.11.5"
  },
  "toc": {
   "base_numbering": 1,
   "nav_menu": {},
   "number_sections": true,
   "sideBar": true,
   "skip_h1_title": false,
   "title_cell": "Table of Contents",
   "title_sidebar": "Contents",
   "toc_cell": false,
   "toc_position": {},
   "toc_section_display": true,
   "toc_window_display": false
  }
 },
 "nbformat": 4,
 "nbformat_minor": 5
}
