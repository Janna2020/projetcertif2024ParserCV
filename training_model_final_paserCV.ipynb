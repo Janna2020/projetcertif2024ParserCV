{
 "cells": [
  {
   "cell_type": "code",
   "execution_count": 2,
   "id": "41e9bfe0",
   "metadata": {},
   "outputs": [],
   "source": [
    "import spacy"
   ]
  },
  {
   "cell_type": "code",
   "execution_count": 4,
   "id": "cf33ae2b",
   "metadata": {},
   "outputs": [],
   "source": [
    "nlp = spacy.load('output/model-best')"
   ]
  },
  {
   "cell_type": "code",
   "execution_count": 5,
   "id": "b92a522d",
   "metadata": {},
   "outputs": [],
   "source": [
    "import sys, fitz"
   ]
  },
  {
   "cell_type": "code",
   "execution_count": 11,
   "id": "67caf102",
   "metadata": {},
   "outputs": [],
   "source": [
    "from PyPDF2 import PdfReader\n",
    "\n",
    "def pdf_to_txt(pdf_file_path, txt_file_path):\n",
    "    with open(pdf_file_path, 'rb') as pdf_file:\n",
    "        pdf_reader = PdfReader(pdf_file)\n",
    "        with open(txt_file_path, 'w', encoding='utf-8') as txt_file:\n",
    "            num_pages = len(pdf_reader.pages)\n",
    "            for page_num in range(num_pages):\n",
    "                page = pdf_reader.pages[page_num]\n",
    "                txt_file.write(page.extract_text())\n",
    "\n",
    "# Utilisation :\n",
    "pdf_file_path = 'test/Smith Resume.pdf'  # chemin vers votre fichier PDF\n",
    "txt_file_path = 'resultat.txt'  # chemin vers le fichier texte de sortie\n",
    "pdf_to_txt(pdf_file_path, txt_file_path)\n"
   ]
  },
  {
   "cell_type": "code",
   "execution_count": 28,
   "id": "bc97ba72",
   "metadata": {},
   "outputs": [],
   "source": [
    "def extract_text_from_pdf(f):\n",
    "    text = \"\"\n",
    "    #with open(pdf_path, \"rb\") as f:\n",
    "    reader = PdfReader(f)\n",
    "    num_pages = len(reader.pages)\n",
    "    for page_num in range(num_pages):\n",
    "        page = reader.pages[page_num]\n",
    "        text += page.extract_text()\n",
    "    return text\n",
    "\n",
    "\n",
    "doc_init = extract_text_from_pdf('test/Alice Clark CV.pdf')"
   ]
  },
  {
   "cell_type": "code",
   "execution_count": 29,
   "id": "3be523d0",
   "metadata": {},
   "outputs": [],
   "source": [
    "text = \"\"\n",
    "for page in doc_init:\n",
    "    text += str(page)"
   ]
  },
  {
   "cell_type": "code",
   "execution_count": 30,
   "id": "94215b01",
   "metadata": {},
   "outputs": [],
   "source": [
    "text = text.strip()\n",
    "' '.join(text.split())\n",
    "doc = nlp(text)"
   ]
  },
  {
   "cell_type": "code",
   "execution_count": 31,
   "id": "d916d540",
   "metadata": {},
   "outputs": [
    {
     "name": "stdout",
     "output_type": "stream",
     "text": [
      "Name : Alice Clark\n",
      "Location : Delhi\n",
      "Designation : Software Engineer\n",
      "Companies worked at : Microsoft\n",
      "Location : Bangalore\n",
      "Skills : Machine Learning, Natural  Language  Processing, and Big Data Handling  \n",
      " ADDITIONAL INFO RMATION  \n",
      "Professional Skills\n"
     ]
    }
   ],
   "source": [
    "for ent in doc.ents:\n",
    "    print(ent.label_,\":\", ent.text)"
   ]
  },
  {
   "cell_type": "code",
   "execution_count": null,
   "id": "ad3fb384",
   "metadata": {},
   "outputs": [],
   "source": []
  }
 ],
 "metadata": {
  "kernelspec": {
   "display_name": "Python 3 (ipykernel)",
   "language": "python",
   "name": "python3"
  },
  "language_info": {
   "codemirror_mode": {
    "name": "ipython",
    "version": 3
   },
   "file_extension": ".py",
   "mimetype": "text/x-python",
   "name": "python",
   "nbconvert_exporter": "python",
   "pygments_lexer": "ipython3",
   "version": "3.11.5"
  },
  "toc": {
   "base_numbering": 1,
   "nav_menu": {},
   "number_sections": true,
   "sideBar": true,
   "skip_h1_title": false,
   "title_cell": "Table of Contents",
   "title_sidebar": "Contents",
   "toc_cell": false,
   "toc_position": {},
   "toc_section_display": true,
   "toc_window_display": false
  }
 },
 "nbformat": 4,
 "nbformat_minor": 5
}
